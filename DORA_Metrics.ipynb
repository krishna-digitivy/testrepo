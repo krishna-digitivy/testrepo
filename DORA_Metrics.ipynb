{
 "cells": [
  {
   "cell_type": "markdown",
   "id": "b4d1281d",
   "metadata": {},
   "source": [
    "## Deployment frequency"
   ]
  },
  {
   "cell_type": "code",
   "execution_count": 1,
   "id": "95464097",
   "metadata": {},
   "outputs": [],
   "source": [
    "import pandas as pd"
   ]
  },
  {
   "cell_type": "code",
   "execution_count": 2,
   "id": "8b1bad87",
   "metadata": {},
   "outputs": [],
   "source": [
    "deployment_data = [\n",
    "    {'date': '2023-07-01', 'deployed': True},\n",
    "    {'date': '2023-07-03', 'deployed': True},\n",
    "    {'date': '2023-07-05', 'deployed': False},\n",
    "    {'date': '2023-07-08', 'deployed': True},\n",
    "    {'date': '2023-07-09', 'deployed': True},\n",
    "    {'date': '2023-07-12', 'deployed': True},\n",
    "    {'date': '2023-07-15', 'deployed': False},\n",
    "    {'date': '2023-07-18', 'deployed': True},\n",
    "    {'date': '2023-07-20', 'deployed': True},\n",
    "]"
   ]
  },
  {
   "cell_type": "code",
   "execution_count": 3,
   "id": "df42bcfd",
   "metadata": {},
   "outputs": [],
   "source": [
    "df = pd.DataFrame(deployment_data)"
   ]
  },
  {
   "cell_type": "code",
   "execution_count": 4,
   "id": "1b08321f",
   "metadata": {},
   "outputs": [],
   "source": [
    "df['date'] = pd.to_datetime(df['date'])"
   ]
  },
  {
   "cell_type": "code",
   "execution_count": 5,
   "id": "47975513",
   "metadata": {},
   "outputs": [],
   "source": [
    "deployment_count = df['deployed'].sum()\n",
    "total_days = (df['date'].max() - df['date'].min()).days + 1\n",
    "deployment_frequency = deployment_count / total_days"
   ]
  },
  {
   "cell_type": "code",
   "execution_count": 7,
   "id": "813e4537",
   "metadata": {},
   "outputs": [
    {
     "data": {
      "text/plain": [
       "7"
      ]
     },
     "execution_count": 7,
     "metadata": {},
     "output_type": "execute_result"
    }
   ],
   "source": [
    "deployment_count"
   ]
  },
  {
   "cell_type": "code",
   "execution_count": 9,
   "id": "b1b03b7a",
   "metadata": {},
   "outputs": [
    {
     "data": {
      "text/plain": [
       "20"
      ]
     },
     "execution_count": 9,
     "metadata": {},
     "output_type": "execute_result"
    }
   ],
   "source": [
    "total_days"
   ]
  },
  {
   "cell_type": "code",
   "execution_count": 6,
   "id": "7ebe91eb",
   "metadata": {},
   "outputs": [
    {
     "name": "stdout",
     "output_type": "stream",
     "text": [
      "Deployment Frequency: 0.35 deployments per day\n"
     ]
    }
   ],
   "source": [
    "print(f\"Deployment Frequency: {deployment_frequency} deployments per day\")"
   ]
  },
  {
   "cell_type": "markdown",
   "id": "64001650",
   "metadata": {},
   "source": [
    "## Change lead time"
   ]
  },
  {
   "cell_type": "code",
   "execution_count": 7,
   "id": "d8fd428f",
   "metadata": {},
   "outputs": [],
   "source": [
    "import datetime\n",
    "\n",
    "code_commit_timestamp = datetime.datetime(2023, 7, 1, 9, 0)  # Timestamp of code commit\n",
    "code_review_timestamp = datetime.datetime(2023, 7, 1, 10, 0)  # Timestamp of code review\n",
    "deployment_timestamp = datetime.datetime(2023, 7, 1, 12, 0)  # Timestamp of deployment"
   ]
  },
  {
   "cell_type": "code",
   "execution_count": 8,
   "id": "57c8e0e9",
   "metadata": {},
   "outputs": [
    {
     "name": "stdout",
     "output_type": "stream",
     "text": [
      "Change Lead Time: 3:00:00\n"
     ]
    }
   ],
   "source": [
    "lead_time = deployment_timestamp - code_commit_timestamp\n",
    "\n",
    "print(f\"Change Lead Time: {lead_time}\")"
   ]
  },
  {
   "cell_type": "code",
   "execution_count": 9,
   "id": "a8677884",
   "metadata": {},
   "outputs": [
    {
     "name": "stdout",
     "output_type": "stream",
     "text": [
      "Lead time is within the desired threshold.\n"
     ]
    }
   ],
   "source": [
    "desired_lead_time_threshold = datetime.timedelta(hours=24)\n",
    "\n",
    "if lead_time <= desired_lead_time_threshold:\n",
    "    print(\"Lead time is wit3hin the desired threshold.\")\n",
    "else:\n",
    "    print(\"Lead time is longer than the desired threshold.\")"
   ]
  },
  {
   "cell_type": "code",
   "execution_count": 10,
   "id": "ffc21da2",
   "metadata": {},
   "outputs": [
    {
     "name": "stdout",
     "output_type": "stream",
     "text": [
      "Code Review Time: 1:00:00\n"
     ]
    }
   ],
   "source": [
    "code_review_time = code_review_timestamp - code_commit_timestamp\n",
    "print(f\"Code Review Time: {code_review_time}\")"
   ]
  },
  {
   "cell_type": "markdown",
   "id": "2d82869e",
   "metadata": {},
   "source": [
    "## Change failure rate"
   ]
  },
  {
   "cell_type": "code",
   "execution_count": 11,
   "id": "df4908aa",
   "metadata": {},
   "outputs": [],
   "source": [
    "total_changes = 100\n",
    "failed_changes = 5"
   ]
  },
  {
   "cell_type": "code",
   "execution_count": 12,
   "id": "7e47cc84",
   "metadata": {},
   "outputs": [],
   "source": [
    "change_failure_rate = failed_changes / total_changes\n",
    "failure_rate_threshold = 0.1"
   ]
  },
  {
   "cell_type": "code",
   "execution_count": 13,
   "id": "f17996aa",
   "metadata": {},
   "outputs": [
    {
     "name": "stdout",
     "output_type": "stream",
     "text": [
      "Change failure rate is within the acceptable range.\n",
      "Change Failure Rate: 5.00%\n"
     ]
    }
   ],
   "source": [
    "if change_failure_rate > failure_rate_threshold:\n",
    "    print(\"Alert: Change failure rate exceeds the threshold!\")\n",
    "else:\n",
    "    print(\"Change failure rate is within the acceptable range.\")\n",
    "\n",
    "print(f\"Change Failure Rate: {change_failure_rate * 100:.2f}%\")"
   ]
  },
  {
   "cell_type": "markdown",
   "id": "61dfb679",
   "metadata": {},
   "source": [
    "## Mean Time To Restore (MTTR)"
   ]
  },
  {
   "cell_type": "code",
   "execution_count": 14,
   "id": "aedec279",
   "metadata": {},
   "outputs": [],
   "source": [
    "import datetime"
   ]
  },
  {
   "cell_type": "code",
   "execution_count": 15,
   "id": "fbdc95f8",
   "metadata": {},
   "outputs": [],
   "source": [
    "incidents = [\n",
    "    {'incident_id': 1, 'failure': True, 'restore_time': datetime.timedelta(hours=2, minutes=30)},\n",
    "    {'incident_id': 2, 'failure': False, 'restore_time': datetime.timedelta(hours=1, minutes=45)},\n",
    "    {'incident_id': 3, 'failure': True, 'restore_time': datetime.timedelta(hours=3, minutes=15)},\n",
    "    {'incident_id': 4, 'failure': True, 'restore_time': datetime.timedelta(hours=1, minutes=50)},\n",
    "    {'incident_id': 5, 'failure': False, 'restore_time': datetime.timedelta(hours=2, minutes=10)}\n",
    "]"
   ]
  },
  {
   "cell_type": "code",
   "execution_count": 16,
   "id": "d06f6aa4",
   "metadata": {},
   "outputs": [],
   "source": [
    "total_incidents = len(incidents)\n",
    "failed_incidents = sum(1 for incident in incidents if incident['failure'])\n",
    "change_failure_rate = failed_incidents / total_incidents"
   ]
  },
  {
   "cell_type": "code",
   "execution_count": 17,
   "id": "bf7ace94",
   "metadata": {},
   "outputs": [],
   "source": [
    "total_restore_time = sum(incident['restore_time'].total_seconds() for incident in incidents)\n",
    "mean_time_to_restore = datetime.timedelta(seconds=total_restore_time / total_incidents)"
   ]
  },
  {
   "cell_type": "code",
   "execution_count": 18,
   "id": "8b4819ea",
   "metadata": {},
   "outputs": [
    {
     "name": "stdout",
     "output_type": "stream",
     "text": [
      "Change Failure Rate (CFR): 60.00%\n",
      "Mean Time to Restore (MTTR): 2:18:00\n"
     ]
    }
   ],
   "source": [
    "print(\"Change Failure Rate (CFR): {:.2%}\".format(change_failure_rate))\n",
    "print(\"Mean Time to Restore (MTTR):\", mean_time_to_restore)"
   ]
  },
  {
   "cell_type": "code",
   "execution_count": null,
   "id": "f3dae3dc",
   "metadata": {},
   "outputs": [],
   "source": []
  },
  {
   "cell_type": "code",
   "execution_count": null,
   "id": "e665b650",
   "metadata": {},
   "outputs": [],
   "source": []
  },
  {
   "cell_type": "markdown",
   "id": "4eef7332",
   "metadata": {},
   "source": [
    "# Deployment Frequency"
   ]
  },
  {
   "cell_type": "code",
   "execution_count": null,
   "id": "41933a61",
   "metadata": {},
   "outputs": [],
   "source": [
    "import pandas as pd\n",
    "\n",
    "# Simulated deployment data for demonstration purposes\n",
    "deployment_data = [\n",
    "    {'date': '2023-07-01', 'deployed': True},\n",
    "    {'date': '2023-07-03', 'deployed': True},\n",
    "    {'date': '2023-07-05', 'deployed': False},\n",
    "    {'date': '2023-07-08', 'deployed': True},\n",
    "    {'date': '2023-07-09', 'deployed': True},\n",
    "    {'date': '2023-07-12', 'deployed': True},\n",
    "    {'date': '2023-07-15', 'deployed': False},\n",
    "    {'date': '2023-07-18', 'deployed': True},\n",
    "    {'date': '2023-07-20', 'deployed': True},\n",
    "]\n",
    "\n",
    "# Convert deployment data to a DataFrame\n",
    "df = pd.DataFrame(deployment_data)\n",
    "\n",
    "# Convert the 'date' column to datetime type\n",
    "df['date'] = pd.to_datetime(df['date'])\n",
    "\n",
    "# Calculate deployment frequency\n",
    "deployment_count = df['deployed'].sum()\n",
    "total_days = (df['date'].max() - df['date'].min()).days + 1\n",
    "deployment_frequency = deployment_count / total_days\n",
    "\n",
    "# Print deployment frequency\n",
    "print(f\"Deployment Frequency: {deployment_frequency} deployments per day\")"
   ]
  },
  {
   "cell_type": "markdown",
   "id": "5e6f9777",
   "metadata": {},
   "source": [
    "# Change Lead Time"
   ]
  },
  {
   "cell_type": "code",
   "execution_count": null,
   "id": "a6c7666f",
   "metadata": {},
   "outputs": [],
   "source": [
    "import datetime\n",
    "\n",
    "# Simulated data for demonstration purposes\n",
    "code_commit_timestamp = datetime.datetime(2023, 7, 1, 9, 0)  # Timestamp of code commit\n",
    "code_review_timestamp = datetime.datetime(2023, 7, 1, 10, 0)  # Timestamp of code review\n",
    "deployment_timestamp = datetime.datetime(2023, 7, 1, 12, 0)  # Timestamp of deployment\n",
    "\n",
    "# Calculate change lead time\n",
    "lead_time = deployment_timestamp - code_commit_timestamp\n",
    "\n",
    "# Print change lead time\n",
    "print(f\"Change Lead Time: {lead_time}\")\n",
    "\n",
    "# Calculate the desired lead time threshold (e.g., 24 hours)\n",
    "desired_lead_time_threshold = datetime.timedelta(hours=24)\n",
    "\n",
    "# Compare the actual lead time with the desired threshold\n",
    "if lead_time <= desired_lead_time_threshold:\n",
    "    print(\"Lead time is within the desired threshold.\")\n",
    "else:\n",
    "    print(\"Lead time is longer than the desired threshold.\")\n",
    "\n",
    "# Additional analysis and discussions can be performed based on the lead time data\n",
    "# For example, analyzing the time spent in code review and identifying bottlenecks\n",
    "code_review_time = code_review_timestamp - code_commit_timestamp\n",
    "print(f\"Code Review Time: {code_review_time}\")"
   ]
  },
  {
   "cell_type": "markdown",
   "id": "2d702720",
   "metadata": {},
   "source": [
    "# Mean Time to Restore"
   ]
  },
  {
   "cell_type": "code",
   "execution_count": null,
   "id": "1e66e444",
   "metadata": {},
   "outputs": [],
   "source": [
    "import datetime\n",
    "\n",
    "# Simulated incident data for demonstration purposes\n",
    "incidents = [\n",
    "    {'incident_id': 1, 'failure': True, 'restore_time': datetime.timedelta(hours=2, minutes=30)},\n",
    "    {'incident_id': 2, 'failure': False, 'restore_time': datetime.timedelta(hours=1, minutes=45)},\n",
    "    {'incident_id': 3, 'failure': True, 'restore_time': datetime.timedelta(hours=3, minutes=15)},\n",
    "    {'incident_id': 4, 'failure': True, 'restore_time': datetime.timedelta(hours=1, minutes=50)},\n",
    "    {'incident_id': 5, 'failure': False, 'restore_time': datetime.timedelta(hours=2, minutes=10)}\n",
    "]\n",
    "\n",
    "# Calculate change failure rate (CFR)\n",
    "total_incidents = len(incidents)\n",
    "failed_incidents = sum(1 for incident in incidents if incident['failure'])\n",
    "change_failure_rate = failed_incidents / total_incidents\n",
    "\n",
    "# Calculate Mean Time to Restore (MTTR)\n",
    "total_restore_time = sum(incident['restore_time'].total_seconds() for incident in incidents)\n",
    "mean_time_to_restore = datetime.timedelta(seconds=total_restore_time / total_incidents)\n",
    "\n",
    "# Print the analysis results\n",
    "print(\"Change Failure Rate (CFR): {:.2%}\".format(change_failure_rate))\n",
    "print(\"Mean Time to Restore (MTTR):\", mean_time_to_restore)"
   ]
  }
 ],
 "metadata": {
  "kernelspec": {
   "display_name": "Python 3 (ipykernel)",
   "language": "python",
   "name": "python3"
  },
  "language_info": {
   "codemirror_mode": {
    "name": "ipython",
    "version": 3
   },
   "file_extension": ".py",
   "mimetype": "text/x-python",
   "name": "python",
   "nbconvert_exporter": "python",
   "pygments_lexer": "ipython3",
   "version": "3.9.12"
  }
 },
 "nbformat": 4,
 "nbformat_minor": 5
}
